{
 "cells": [
  {
   "cell_type": "code",
   "execution_count": 1,
   "id": "6889eab4-6995-407d-b06e-051518ffc5a3",
   "metadata": {},
   "outputs": [],
   "source": [
    "import pandas as pd\n",
    "import os\n",
    "import glob\n",
    "from tqdm import tqdm\n",
    "import numpy as np\n",
    "import warnings\n",
    "warnings.filterwarnings('ignore')"
   ]
  },
  {
   "cell_type": "code",
   "execution_count": 5,
   "id": "101b510e-8817-4e48-9d19-d505b076a042",
   "metadata": {},
   "outputs": [
    {
     "name": "stdout",
     "output_type": "stream",
     "text": [
      "\n",
      "开始加载价格数据文件...\n",
      "找到 4 个价格数据文件\n"
     ]
    },
    {
     "name": "stderr",
     "output_type": "stream",
     "text": [
      "读取价格文件:  25%|█████████████████▌                                                    | 1/4 [00:00<00:00,  4.74it/s]"
     ]
    },
    {
     "name": "stdout",
     "output_type": "stream",
     "text": [
      "\n",
      "成功读取价格文件: RESSET_DRESSTK_2001_2010_1.xls\n",
      "数据形状: (3758, 14)\n"
     ]
    },
    {
     "name": "stderr",
     "output_type": "stream",
     "text": [
      "读取价格文件:  50%|███████████████████████████████████                                   | 2/4 [00:00<00:00,  3.47it/s]"
     ]
    },
    {
     "name": "stdout",
     "output_type": "stream",
     "text": [
      "\n",
      "成功读取价格文件: RESSET_DRESSTK_2011_2015_1.xls\n",
      "数据形状: (17442, 14)\n"
     ]
    },
    {
     "name": "stderr",
     "output_type": "stream",
     "text": [
      "读取价格文件:  75%|████████████████████████████████████████████████████▌                 | 3/4 [00:01<00:00,  1.53it/s]"
     ]
    },
    {
     "name": "stdout",
     "output_type": "stream",
     "text": [
      "\n",
      "成功读取价格文件: RESSET_DRESSTK_2016_2020_1.xls\n",
      "数据形状: (56500, 14)\n"
     ]
    },
    {
     "name": "stderr",
     "output_type": "stream",
     "text": [
      "读取价格文件: 100%|██████████████████████████████████████████████████████████████████████| 4/4 [00:02<00:00,  1.37it/s]\n"
     ]
    },
    {
     "name": "stdout",
     "output_type": "stream",
     "text": [
      "\n",
      "成功读取价格文件: RESSET_DRESSTK_2021__1.xls\n",
      "数据形状: (62912, 14)\n",
      "\n",
      "合并价格数据文件...\n",
      "\n",
      "处理价格数据...\n",
      "发现 9188 条无效数据记录，正在删除...\n",
      "\n",
      "数据质量分析:\n",
      "\n",
      "1. 基本信息:\n",
      "总记录数: 131,424\n",
      "股票数量: 118\n",
      "时间范围: 2007-02-16 00:00:00 到 2023-12-29 00:00:00\n",
      "\n",
      "2. 数据完整性:\n",
      "所有列数据完整，无缺失值\n",
      "\n",
      "3. 交易日统计:\n",
      "平均交易天数: 1114\n",
      "最少交易天数: 20\n",
      "最多交易天数: 3588\n",
      "\n",
      "按股票代码分别保存数据...\n",
      "共有118只股票\n"
     ]
    },
    {
     "name": "stderr",
     "output_type": "stream",
     "text": [
      "保存股票数据: 100%|█████████████████████████████████████████████████████████████████| 118/118 [00:00<00:00, 166.70it/s]\n"
     ]
    },
    {
     "name": "stdout",
     "output_type": "stream",
     "text": [
      "\n",
      "所有股票数据已保存到 stock_data 目录\n",
      "\n",
      "数据处理完成！\n"
     ]
    }
   ],
   "source": [
    "def load_price_data(price_path):\n",
    "    \"\"\"\n",
    "    加载价格数据文件\n",
    "    \"\"\"\n",
    "    print(\"\\n开始加载价格数据文件...\")\n",
    "    \n",
    "    price_files = glob.glob(os.path.join(price_path, \"*.xls\"))\n",
    "    \n",
    "    if not price_files:\n",
    "        raise FileNotFoundError(f\"在 {price_path} 目录下没有找到价格数据文件\")\n",
    "    \n",
    "    print(f\"找到 {len(price_files)} 个价格数据文件\")\n",
    "    \n",
    "    price_list = []\n",
    "    for file in tqdm(price_files, desc=\"读取价格文件\"):\n",
    "        try:\n",
    "            df = pd.read_excel(file, engine='xlrd')\n",
    "            \n",
    "            # 验证价格数据必要的列\n",
    "            required_columns = [\n",
    "                '股票代码_Stkcd', '日期_Date', \n",
    "                '开盘价_Oppr', '最高价_Hipr',\n",
    "                '最低价_Lopr', '收盘价_Clpr', \n",
    "                '成交量_Trdvol'\n",
    "            ]\n",
    "            \n",
    "            missing_columns = [col for col in required_columns if col not in df.columns]\n",
    "            if missing_columns:\n",
    "                print(f\"警告: 价格文件 {os.path.basename(file)} 缺少列: {missing_columns}\")\n",
    "                continue\n",
    "            \n",
    "            print(f\"\\n成功读取价格文件: {os.path.basename(file)}\")\n",
    "            print(f\"数据形状: {df.shape}\")\n",
    "            price_list.append(df)\n",
    "            \n",
    "        except Exception as e:\n",
    "            print(f\"\\n错误: 读取价格文件 {os.path.basename(file)} 时出错:\")\n",
    "            print(f\"错误信息: {str(e)}\")\n",
    "            continue\n",
    "    \n",
    "    if not price_list:\n",
    "        raise ValueError(\"没有成功读取任何价格数据文件\")\n",
    "    \n",
    "    print(\"\\n合并价格数据文件...\")\n",
    "    price_combined = pd.concat(price_list, ignore_index=True)\n",
    "    \n",
    "    return price_combined\n",
    "\n",
    "def process_price_data(df):\n",
    "    \"\"\"\n",
    "    处理价格数据\n",
    "    \"\"\"\n",
    "    print(\"\\n处理价格数据...\")\n",
    "    \n",
    "    df['日期_Date'] = pd.to_datetime(df['日期_Date'])\n",
    "    \n",
    "    # 按股票代码和日期排序\n",
    "    df = df.sort_values(['股票代码_Stkcd', '日期_Date'])\n",
    "    \n",
    "    # 删除重复数据\n",
    "    duplicates = df.duplicated(['股票代码_Stkcd', '日期_Date'])\n",
    "    if duplicates.any():\n",
    "        print(f\"发现 {duplicates.sum()} 条重复记录，正在删除...\")\n",
    "        df = df.drop_duplicates(['股票代码_Stkcd', '日期_Date'])\n",
    "    \n",
    "    # 数据有效性检查\n",
    "    df['数据有效'] = (\n",
    "        (df['收盘价_Clpr'] > 0) & \n",
    "        (df['开盘价_Oppr'] > 0) & \n",
    "        (df['最高价_Hipr'] > 0) & \n",
    "        (df['最低价_Lopr'] > 0) & \n",
    "        (df['成交量_Trdvol'] >= 0)\n",
    "    )\n",
    "    \n",
    "    invalid_count = (~df['数据有效']).sum()\n",
    "    if invalid_count > 0:\n",
    "        print(f\"发现 {invalid_count} 条无效数据记录，正在删除...\")\n",
    "        df = df[df['数据有效']].drop('数据有效', axis=1)\n",
    "    \n",
    "    return df\n",
    "\n",
    "def analyze_data_quality(df):\n",
    "    \"\"\"\n",
    "    分析数据质量\n",
    "    \"\"\"\n",
    "    print(\"\\n数据质量分析:\")\n",
    "    \n",
    "    print(\"\\n1. 基本信息:\")\n",
    "    print(f\"总记录数: {len(df):,}\")\n",
    "    print(f\"股票数量: {df['股票代码_Stkcd'].nunique():,}\")\n",
    "    print(f\"时间范围: {df['日期_Date'].min()} 到 {df['日期_Date'].max()}\")\n",
    "    \n",
    "    print(\"\\n2. 数据完整性:\")\n",
    "    missing_data = df.isnull().sum()\n",
    "    if missing_data.any():\n",
    "        print(\"\\n存在缺失值的列:\")\n",
    "        print(missing_data[missing_data > 0])\n",
    "    else:\n",
    "        print(\"所有列数据完整，无缺失值\")\n",
    "    \n",
    "    print(\"\\n3. 交易日统计:\")\n",
    "    trading_days = df.groupby('股票代码_Stkcd')['日期_Date'].nunique()\n",
    "    print(f\"平均交易天数: {trading_days.mean():.0f}\")\n",
    "    print(f\"最少交易天数: {trading_days.min()}\")\n",
    "    print(f\"最多交易天数: {trading_days.max()}\")\n",
    "    \n",
    "    return trading_days\n",
    "\n",
    "def save_by_stock(df, output_dir='stock_data'):\n",
    "    \"\"\"\n",
    "    按股票代码分别保存数据\n",
    "    \"\"\"\n",
    "    print(\"\\n按股票代码分别保存数据...\")\n",
    "    \n",
    "    # 创建输出目录\n",
    "    if not os.path.exists(output_dir):\n",
    "        os.makedirs(output_dir)\n",
    "    \n",
    "    # 获取所有股票代码\n",
    "    stock_codes = df['股票代码_Stkcd'].unique()\n",
    "    print(f\"共有{len(stock_codes)}只股票\")\n",
    "    \n",
    "    # 为每个股票保存数据\n",
    "    for stock_code in tqdm(stock_codes, desc=\"保存股票数据\"):\n",
    "        stock_df = df[df['股票代码_Stkcd'] == stock_code].copy()\n",
    "        stock_df = stock_df.sort_values('日期_Date')\n",
    "        output_file = os.path.join(output_dir, f'stock_{stock_code}_data.csv')\n",
    "        stock_df.to_csv(output_file, index=False)\n",
    "    \n",
    "    print(f\"\\n所有股票数据已保存到 {output_dir} 目录\")\n",
    "\n",
    "def main():\n",
    "    try:\n",
    "        # 设置数据路径\n",
    "        price_path = r\"C:\\Users\\Administrator\\Desktop\\data_1\\dtk\"\n",
    "        \n",
    "        # 加载价格数据\n",
    "        price_df = load_price_data(price_path)\n",
    "        \n",
    "        # 处理价格数据\n",
    "        processed_df = process_price_data(price_df)\n",
    "        \n",
    "        # 分析数据质量\n",
    "        trading_days = analyze_data_quality(processed_df)\n",
    "        \n",
    "        # 按股票代码分别保存数据\n",
    "        save_by_stock(processed_df)\n",
    "        \n",
    "        # 同时保存完整数据集\n",
    "        processed_df.to_csv('processed_stock_data.csv', index=False)\n",
    "        \n",
    "        print(\"\\n数据处理完成！\")\n",
    "        \n",
    "    except Exception as e:\n",
    "        print(f\"\\n处理过程中发生错误: {str(e)}\")\n",
    "        raise\n",
    "\n",
    "if __name__ == \"__main__\":\n",
    "    main() "
   ]
  },
  {
   "cell_type": "code",
   "execution_count": null,
   "id": "89c9d511-ce43-491d-8ad5-19c18439ae03",
   "metadata": {},
   "outputs": [],
   "source": []
  }
 ],
 "metadata": {
  "kernelspec": {
   "display_name": "Python 3 (ipykernel)",
   "language": "python",
   "name": "python3"
  },
  "language_info": {
   "codemirror_mode": {
    "name": "ipython",
    "version": 3
   },
   "file_extension": ".py",
   "mimetype": "text/x-python",
   "name": "python",
   "nbconvert_exporter": "python",
   "pygments_lexer": "ipython3",
   "version": "3.12.4"
  }
 },
 "nbformat": 4,
 "nbformat_minor": 5
}
